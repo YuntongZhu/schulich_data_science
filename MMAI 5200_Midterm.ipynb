{
 "cells": [
  {
   "cell_type": "markdown",
   "metadata": {},
   "source": [
    "### Part1"
   ]
  },
  {
   "cell_type": "code",
   "execution_count": 1,
   "metadata": {},
   "outputs": [],
   "source": [
    "import numpy as np"
   ]
  },
  {
   "cell_type": "code",
   "execution_count": 2,
   "metadata": {},
   "outputs": [
    {
     "name": "stdout",
     "output_type": "stream",
     "text": [
      "z: 387.5, x1: 0.5, x2: 2.25\n"
     ]
    }
   ],
   "source": [
    "def simplex_algorithm(c1, c2, a11, a12, a21, a22, b1, b2):\n",
    "    \n",
    "    c = np.array([c1, c2])\n",
    "    A = np.array([[a11, a12], [a21, a22]])\n",
    "    b = np.array([b1, b2])\n",
    "\n",
    "    num_vars = 2\n",
    "\n",
    "    num_constraints = 2\n",
    "\n",
    "    tableau = np.zeros((num_constraints + 1, num_vars + num_constraints + 1))\n",
    "\n",
    "    tableau[0, :num_vars] = -c  \n",
    "\n",
    "    tableau[1:, :num_vars] = A\n",
    "    tableau[1:, -1] = b\n",
    "\n",
    "    tableau[1, num_vars] = 1\n",
    "    tableau[2, num_vars + 1] = 1\n",
    "\n",
    "    while True:\n",
    "        pivot_col = np.argmin(tableau[0, :-1])\n",
    "        if tableau[0, pivot_col] >= 0:\n",
    "            break  \n",
    "\n",
    "        ratios = tableau[1:, -1] / tableau[1:, pivot_col]\n",
    "        ratios[ratios <= 0] = np.inf\n",
    "        pivot_row = np.argmin(ratios) + 1\n",
    "\n",
    "        tableau[pivot_row, :] /= tableau[pivot_row, pivot_col]\n",
    "        for i in range(tableau.shape[0]):\n",
    "            if i != pivot_row:\n",
    "                tableau[i, :] -= tableau[i, pivot_col] * tableau[pivot_row, :]\n",
    "\n",
    "    x = np.zeros(num_vars)\n",
    "    for i in range(num_vars):\n",
    "        col = tableau[:, i]\n",
    "        if col.sum() == 1 and len(col[col == 1]) == 1:\n",
    "            row = np.where(col == 1)[0][0]\n",
    "            x[i] = tableau[row, -1]\n",
    "\n",
    "    z = tableau[0, -1]\n",
    "\n",
    "    x1, x2 = x[0], x[1]\n",
    "    return z, x1, x2\n",
    "\n",
    "z, x1, x2 = simplex_algorithm(100, 150, 3, 2, 1, 2, 6, 5)\n",
    "print(f\"z: {z}, x1: {x1}, x2: {x2}\")"
   ]
  },
  {
   "cell_type": "markdown",
   "metadata": {},
   "source": [
    "### Part2"
   ]
  },
  {
   "cell_type": "code",
   "execution_count": 22,
   "metadata": {},
   "outputs": [
    {
     "data": {
      "text/plain": [
       "(300.0, 0.0, 2.0)"
      ]
     },
     "execution_count": 22,
     "metadata": {},
     "output_type": "execute_result"
    }
   ],
   "source": [
    "import numpy as np\n",
    "\n",
    "def simplex_algorithm(c1, c2, a11, a12, a21, a22, b1, b2):\n",
    "    c = np.array([c1, c2])\n",
    "    A = np.array([[a11, a12], [a21, a22]])\n",
    "    b = np.array([b1, b2])\n",
    "\n",
    "    num_vars = 2\n",
    "    num_constraints = 2\n",
    "\n",
    "    tableau = np.zeros((num_constraints + 1, num_vars + num_constraints + 1))\n",
    "\n",
    "    tableau[0, :num_vars] = -c\n",
    "    tableau[1:, :num_vars] = A\n",
    "    tableau[1:, -1] = b\n",
    "\n",
    "    tableau[1, num_vars] = 1\n",
    "    tableau[2, num_vars + 1] = 1\n",
    "\n",
    "    while True:\n",
    "        pivot_col = np.argmin(tableau[0, :-1])\n",
    "        if tableau[0, pivot_col] >= 0:\n",
    "            break\n",
    "\n",
    "        ratios = tableau[1:, -1] / tableau[1:, pivot_col]\n",
    "        ratios[ratios <= 0] = np.inf\n",
    "        pivot_row = np.argmin(ratios) + 1\n",
    "\n",
    "        tableau[pivot_row, :] /= tableau[pivot_row, pivot_col]\n",
    "        for i in range(tableau.shape[0]):\n",
    "            if i != pivot_row:\n",
    "                tableau[i, :] -= tableau[i, pivot_col] * tableau[pivot_row, :]\n",
    "\n",
    "    x = np.zeros(num_vars)\n",
    "    for i in range(num_vars):\n",
    "        col = tableau[:, i]\n",
    "        if col.sum() == 1 and len(col[col == 1]) == 1:\n",
    "            row = np.where(col == 1)[0][0]\n",
    "            x[i] = tableau[row, -1]\n",
    "\n",
    "    z = tableau[0, -1]\n",
    "    return z, x[0], x[1]\n",
    "\n",
    "def branch_and_bound_integer_solution(c1, c2, a11, a12, a21, a22, b1, b2):\n",
    "    simplex_solution = simplex_algorithm(c1, c2, a11, a12, a21, a22, b1, b2)\n",
    "    z, x1, x2 = simplex_solution\n",
    "\n",
    "    def objective_function(x1, x2):\n",
    "        return c1*x1 + c2*x2\n",
    "\n",
    "    def constraint1(x1, x2):\n",
    "        return a11*x1 + a12*x2 <= b1\n",
    "\n",
    "    def constraint2(x1, x2):\n",
    "        return a21*x1 + a22*x2 <= b2\n",
    "\n",
    "    candidates = [\n",
    "        (np.floor(x1), np.floor(x2)),\n",
    "        (np.ceil(x1), np.floor(x2)),\n",
    "        (np.floor(x1), np.ceil(x2)),\n",
    "        (np.ceil(x1), np.ceil(x2))\n",
    "    ]\n",
    "\n",
    "    feasible_solutions = []\n",
    "    for candidate_x1, candidate_x2 in candidates:\n",
    "        if constraint1(candidate_x1, candidate_x2) and constraint2(candidate_x1, candidate_x2):\n",
    "            z = objective_function(candidate_x1, candidate_x2)\n",
    "            feasible_solutions.append((z, candidate_x1, candidate_x2))\n",
    "\n",
    "    best_solution = max(feasible_solutions, key=lambda x: x[0]) if feasible_solutions else None\n",
    "\n",
    "    return best_solution\n",
    "\n",
    "branch_and_bound_integer_solution(100, 150, 3, 2, 1, 2, 6, 5)\n"
   ]
  },
  {
   "cell_type": "markdown",
   "metadata": {},
   "source": [
    "### Part3"
   ]
  },
  {
   "cell_type": "code",
   "execution_count": 10,
   "metadata": {},
   "outputs": [],
   "source": [
    "from scipy.optimize import linprog\n"
   ]
  },
  {
   "cell_type": "code",
   "execution_count": 14,
   "metadata": {},
   "outputs": [
    {
     "name": "stdout",
     "output_type": "stream",
     "text": [
      "Collecting ortools\n",
      "  Downloading ortools-9.8.3296-cp310-cp310-macosx_10_15_x86_64.whl.metadata (2.8 kB)\n",
      "Requirement already satisfied: absl-py>=2.0.0 in /Users/zoezhu/anaconda3/lib/python3.10/site-packages (from ortools) (2.0.0)\n",
      "Requirement already satisfied: numpy>=1.13.3 in /Users/zoezhu/anaconda3/lib/python3.10/site-packages (from ortools) (1.23.5)\n",
      "Collecting pandas>=2.0.0 (from ortools)\n",
      "  Downloading pandas-2.2.0-cp310-cp310-macosx_10_9_x86_64.whl.metadata (19 kB)\n",
      "Collecting protobuf>=4.25.0 (from ortools)\n",
      "  Downloading protobuf-4.25.2-cp37-abi3-macosx_10_9_universal2.whl.metadata (541 bytes)\n",
      "Requirement already satisfied: python-dateutil>=2.8.2 in /Users/zoezhu/anaconda3/lib/python3.10/site-packages (from pandas>=2.0.0->ortools) (2.8.2)\n",
      "Requirement already satisfied: pytz>=2020.1 in /Users/zoezhu/anaconda3/lib/python3.10/site-packages (from pandas>=2.0.0->ortools) (2022.7)\n",
      "Collecting tzdata>=2022.7 (from pandas>=2.0.0->ortools)\n",
      "  Downloading tzdata-2024.1-py2.py3-none-any.whl.metadata (1.4 kB)\n",
      "Requirement already satisfied: six>=1.5 in /Users/zoezhu/anaconda3/lib/python3.10/site-packages (from python-dateutil>=2.8.2->pandas>=2.0.0->ortools) (1.16.0)\n",
      "Downloading ortools-9.8.3296-cp310-cp310-macosx_10_15_x86_64.whl (18.0 MB)\n",
      "\u001b[2K   \u001b[90m━━━━━━━━━━━━━━━━━━━━━━━━━━━━━━━━━━━━━━━━\u001b[0m \u001b[32m18.0/18.0 MB\u001b[0m \u001b[31m5.1 MB/s\u001b[0m eta \u001b[36m0:00:00\u001b[0m00:01\u001b[0m00:01\u001b[0mm\n",
      "\u001b[?25hDownloading pandas-2.2.0-cp310-cp310-macosx_10_9_x86_64.whl (12.5 MB)\n",
      "\u001b[2K   \u001b[90m━━━━━━━━━━━━━━━━━━━━━━━━━━━━━━━━━━━━━━━━\u001b[0m \u001b[32m12.5/12.5 MB\u001b[0m \u001b[31m4.9 MB/s\u001b[0m eta \u001b[36m0:00:00\u001b[0m00:01\u001b[0m00:01\u001b[0m\n",
      "\u001b[?25hDownloading protobuf-4.25.2-cp37-abi3-macosx_10_9_universal2.whl (394 kB)\n",
      "\u001b[2K   \u001b[90m━━━━━━━━━━━━━━━━━━━━━━━━━━━━━━━━━━━━━━━━\u001b[0m \u001b[32m394.2/394.2 kB\u001b[0m \u001b[31m6.8 MB/s\u001b[0m eta \u001b[36m0:00:00\u001b[0m:00:01\u001b[0m\n",
      "\u001b[?25hDownloading tzdata-2024.1-py2.py3-none-any.whl (345 kB)\n",
      "\u001b[2K   \u001b[90m━━━━━━━━━━━━━━━━━━━━━━━━━━━━━━━━━━━━━━━━\u001b[0m \u001b[32m345.4/345.4 kB\u001b[0m \u001b[31m9.3 MB/s\u001b[0m eta \u001b[36m0:00:00\u001b[0m\n",
      "\u001b[?25hInstalling collected packages: tzdata, protobuf, pandas, ortools\n",
      "  Attempting uninstall: protobuf\n",
      "    Found existing installation: protobuf 3.20.3\n",
      "    Uninstalling protobuf-3.20.3:\n",
      "      Successfully uninstalled protobuf-3.20.3\n",
      "  Attempting uninstall: pandas\n",
      "    Found existing installation: pandas 1.5.3\n",
      "    Uninstalling pandas-1.5.3:\n",
      "      Successfully uninstalled pandas-1.5.3\n",
      "\u001b[31mERROR: pip's dependency resolver does not currently take into account all the packages that are installed. This behaviour is the source of the following dependency conflicts.\n",
      "pyabsa 2.3.4 requires protobuf<4.0.0, but you have protobuf 4.25.2 which is incompatible.\n",
      "tensorboard 2.15.1 requires protobuf<4.24,>=3.19.6, but you have protobuf 4.25.2 which is incompatible.\u001b[0m\u001b[31m\n",
      "\u001b[0mSuccessfully installed ortools-9.8.3296 pandas-2.2.0 protobuf-4.25.2 tzdata-2024.1\n",
      "\n",
      "\u001b[1m[\u001b[0m\u001b[34;49mnotice\u001b[0m\u001b[1;39;49m]\u001b[0m\u001b[39;49m A new release of pip is available: \u001b[0m\u001b[31;49m23.3.1\u001b[0m\u001b[39;49m -> \u001b[0m\u001b[32;49m24.0\u001b[0m\n",
      "\u001b[1m[\u001b[0m\u001b[34;49mnotice\u001b[0m\u001b[1;39;49m]\u001b[0m\u001b[39;49m To update, run: \u001b[0m\u001b[32;49mpip install --upgrade pip\u001b[0m\n",
      "Note: you may need to restart the kernel to use updated packages.\n"
     ]
    }
   ],
   "source": [
    "pip install ortools"
   ]
  },
  {
   "cell_type": "code",
   "execution_count": 15,
   "metadata": {},
   "outputs": [],
   "source": [
    "from ortools.linear_solver import pywraplp"
   ]
  },
  {
   "cell_type": "code",
   "execution_count": 30,
   "metadata": {},
   "outputs": [
    {
     "name": "stdout",
     "output_type": "stream",
     "text": [
      "Total cost =  5650.0\n",
      "Transportation 0.0 units from Warehouse 1 to City 1\n",
      "Transportation 500.0 units from Warehouse 1 to City 2\n",
      "Transportation 0.0 units from Warehouse 1 to City 3\n",
      "Transportation 600.0 units from Warehouse 2 to City 1\n",
      "Transportation 200.0 units from Warehouse 2 to City 2\n",
      "Transportation 300.0 units from Warehouse 2 to City 3\n"
     ]
    }
   ],
   "source": [
    "def solve_transportation_problem(capacities, demands, costs):\n",
    "    \n",
    "    solver = pywraplp.Solver.CreateSolver('SCIP')\n",
    "\n",
    "    if not solver:\n",
    "        return None\n",
    "\n",
    "    num_sources = len(capacities)\n",
    "    num_destinations = len(demands)\n",
    "\n",
    "    x = {}\n",
    "    for i in range(num_sources):\n",
    "        for j in range(num_destinations):\n",
    "            x[i, j] = solver.IntVar(0, solver.infinity(), f'x[{i},{j}]')\n",
    "\n",
    "    objective = solver.Objective()\n",
    "    for i in range(num_sources):\n",
    "        for j in range(num_destinations):\n",
    "            objective.SetCoefficient(x[i, j], costs[i][j])\n",
    "    objective.SetMinimization()\n",
    "\n",
    "    for j in range(num_destinations):\n",
    "        demand_constraint = solver.Constraint(demands[j], demands[j])\n",
    "        for i in range(num_sources):\n",
    "            demand_constraint.SetCoefficient(x[i, j], 1)\n",
    "\n",
    "    for i in range(num_sources):\n",
    "        capacity_constraint = solver.Constraint(0, capacities[i])\n",
    "        for j in range(num_destinations):\n",
    "            capacity_constraint.SetCoefficient(x[i, j], 1)\n",
    "\n",
    "    status = solver.Solve()\n",
    "\n",
    "    if status == pywraplp.Solver.OPTIMAL or status == pywraplp.Solver.FEASIBLE:\n",
    "        print('Total cost = ', objective.Value())\n",
    "    for i in range(num_sources):\n",
    "        for j in range(num_destinations):\n",
    "            print(f'Transportation {x[i, j].solution_value()} units from Warehouse {i + 1} to City {j + 1}')\n",
    "\n",
    "capacities = [500, 1800]\n",
    "demands = [600, 700, 300]\n",
    "\n",
    "costs = [\n",
    "    [2, 1.5, 10],\n",
    "    [4, 3.5, 6]\n",
    "]\n",
    "solve_transportation_problem(capacities, demands, costs)\n"
   ]
  }
 ],
 "metadata": {
  "kernelspec": {
   "display_name": "base",
   "language": "python",
   "name": "python3"
  },
  "language_info": {
   "codemirror_mode": {
    "name": "ipython",
    "version": 3
   },
   "file_extension": ".py",
   "mimetype": "text/x-python",
   "name": "python",
   "nbconvert_exporter": "python",
   "pygments_lexer": "ipython3",
   "version": "3.10.9"
  }
 },
 "nbformat": 4,
 "nbformat_minor": 2
}
