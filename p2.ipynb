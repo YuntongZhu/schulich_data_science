{
 "cells": [
  {
   "cell_type": "code",
   "execution_count": 1,
   "metadata": {},
   "outputs": [
    {
     "name": "stdout",
     "output_type": "stream",
     "text": [
      "Collecting psycopg2-binary\n",
      "  Downloading psycopg2_binary-2.9.7-cp310-cp310-macosx_10_9_x86_64.whl (2.8 MB)\n",
      "\u001b[2K     \u001b[90m━━━━━━━━━━━━━━━━━━━━━━━━━━━━━━━━━━━━━━━━\u001b[0m \u001b[32m2.8/2.8 MB\u001b[0m \u001b[31m17.3 MB/s\u001b[0m eta \u001b[36m0:00:00\u001b[0m00:01\u001b[0m00:01\u001b[0m\n",
      "\u001b[?25hInstalling collected packages: psycopg2-binary\n",
      "Successfully installed psycopg2-binary-2.9.7\n",
      "Note: you may need to restart the kernel to use updated packages.\n"
     ]
    }
   ],
   "source": [
    "import sqlalchemy as sa\n",
    "import pandas as pd\n",
    "import requests, json\n",
    "%pip install psycopg2-binary"
   ]
  },
  {
   "cell_type": "code",
   "execution_count": 2,
   "metadata": {},
   "outputs": [],
   "source": [
    "my_db_secret = {\n",
    "    'drivername' : 'postgresql+psycopg2',\n",
    "    'host'       : 'mmai5100postgres.canadacentral.cloudapp.azure.com',\n",
    "    'port'       : '5432',\n",
    "    'username'   : 'kevli88',\n",
    "    'password'   : '2023!Schulich',\n",
    "    'database'   : 'kevli88_db'\n",
    "}"
   ]
  },
  {
   "cell_type": "code",
   "execution_count": 3,
   "metadata": {},
   "outputs": [],
   "source": [
    "my_db_url = sa.engine.URL.create(\n",
    "    drivername = my_db_secret['drivername'],\n",
    "    username   = my_db_secret['username'],\n",
    "    password   = my_db_secret['password'],\n",
    "    host       = my_db_secret['host'],\n",
    "    port       = my_db_secret['port'],\n",
    "    database   = my_db_secret['database']\n",
    ")"
   ]
  },
  {
   "cell_type": "code",
   "execution_count": 4,
   "metadata": {},
   "outputs": [],
   "source": [
    "my_db_engine = sa.create_engine(my_db_url)"
   ]
  },
  {
   "cell_type": "code",
   "execution_count": 5,
   "metadata": {},
   "outputs": [],
   "source": [
    "with my_db_engine.connect() as connection:\n",
    "    connection.execute('CREATE SCHEMA IF NOT EXISTS uploads;')"
   ]
  },
  {
   "cell_type": "code",
   "execution_count": 7,
   "metadata": {},
   "outputs": [],
   "source": [
    "# Weather Data from OpenWeatherMap API\n",
    "# write a function to get the weather data from OpenWeatherMap API\n",
    "# use the API to get the current weather data for each city\n",
    "# parse the JSON data from the API response\n",
    "# collect the following data from the JSON file and store it into a DataFrame:\n",
    "# City, Country, Date, Lat, Lng, Max Temp, Humidity, Cloudiness, Wind Speed\n",
    "import pandas as pd\n",
    "import requests\n",
    "from datetime import datetime\n",
    "import schedule\n",
    "import time"
   ]
  },
  {
   "cell_type": "code",
   "execution_count": 10,
   "metadata": {},
   "outputs": [
    {
     "name": "stderr",
     "output_type": "stream",
     "text": [
      "/var/folders/fm/9pz_54hn7ynbrz17999wv77m0000gn/T/ipykernel_82913/3808653019.py:20: FutureWarning: The frame.append method is deprecated and will be removed from pandas in a future version. Use pandas.concat instead.\n",
      "  current_weather = current_weather.append({\n",
      "/var/folders/fm/9pz_54hn7ynbrz17999wv77m0000gn/T/ipykernel_82913/3808653019.py:20: FutureWarning: The frame.append method is deprecated and will be removed from pandas in a future version. Use pandas.concat instead.\n",
      "  current_weather = current_weather.append({\n",
      "/var/folders/fm/9pz_54hn7ynbrz17999wv77m0000gn/T/ipykernel_82913/3808653019.py:20: FutureWarning: The frame.append method is deprecated and will be removed from pandas in a future version. Use pandas.concat instead.\n",
      "  current_weather = current_weather.append({\n",
      "/var/folders/fm/9pz_54hn7ynbrz17999wv77m0000gn/T/ipykernel_82913/3808653019.py:20: FutureWarning: The frame.append method is deprecated and will be removed from pandas in a future version. Use pandas.concat instead.\n",
      "  current_weather = current_weather.append({\n",
      "/var/folders/fm/9pz_54hn7ynbrz17999wv77m0000gn/T/ipykernel_82913/3808653019.py:20: FutureWarning: The frame.append method is deprecated and will be removed from pandas in a future version. Use pandas.concat instead.\n",
      "  current_weather = current_weather.append({\n"
     ]
    },
    {
     "name": "stdout",
     "output_type": "stream",
     "text": [
      "        City Country                 Date      Lat       Lng  Max Temp  \\\n",
      "0     London      GB  2023-08-11 04:27:35  51.5085   -0.1257     19.59   \n",
      "1   New York      US  2023-08-11 04:30:34  40.7143  -74.0060     21.98   \n",
      "2    Toronto      CA  2023-08-11 04:33:13  43.7001  -79.4163     21.06   \n",
      "3  Vancouver      CA  2023-08-11 04:29:43  49.2497 -123.1193     19.68   \n",
      "4      Tokyo      JP  2023-08-11 04:29:04  35.6895  139.6917     35.86   \n",
      "\n",
      "  Humidity Cloudiness  Wind Speed  \n",
      "0       88         75        4.12  \n",
      "1       91         40        5.14  \n",
      "2       63         75        5.66  \n",
      "3       80         20        2.06  \n",
      "4       53         40        7.72  \n",
      "       Date  Feels Like Avg  Min Temp  Max Temp       Description  \\\n",
      "0  20230814           20.70     19.50     23.13   overcast clouds   \n",
      "1  20230812           23.52     20.22     28.18     broken clouds   \n",
      "2  20230811           21.73     17.22     26.31     broken clouds   \n",
      "3  20230816           19.73     19.11     21.31  scattered clouds   \n",
      "4  20230815           20.60     18.29     23.24        light rain   \n",
      "5  20230813           21.85     18.46     25.61  scattered clouds   \n",
      "\n",
      "                                            URL  \n",
      "0  https://dd.weather.gc.ca/alerts/cap/20230814  \n",
      "1  https://dd.weather.gc.ca/alerts/cap/20230812  \n",
      "2  https://dd.weather.gc.ca/alerts/cap/20230811  \n",
      "3  https://dd.weather.gc.ca/alerts/cap/20230816  \n",
      "4  https://dd.weather.gc.ca/alerts/cap/20230815  \n",
      "5  https://dd.weather.gc.ca/alerts/cap/20230813  \n"
     ]
    }
   ],
   "source": [
    "import requests\n",
    "import pandas as pd\n",
    "from datetime import datetime\n",
    "\n",
    "def get_weather_data(api_key, cities):\n",
    "    base_url = \"http://api.openweathermap.org/data/2.5/weather\"\n",
    "    columns = [\"City\", \"Country\", \"Date\", \"Lat\", \"Lng\", \"Max Temp\", \"Humidity\", \"Cloudiness\", \"Wind Speed\"]\n",
    "    current_weather = pd.DataFrame(columns=columns)\n",
    "\n",
    "    for city in cities:\n",
    "        params = {\n",
    "            'q': city,\n",
    "            'appid': api_key,\n",
    "            'units': 'metric'\n",
    "        }\n",
    "        response = requests.get(base_url, params=params)\n",
    "        data = response.json()\n",
    "\n",
    "        if response.status_code == 200:\n",
    "            current_weather = current_weather.append({\n",
    "                \"City\": data['name'],\n",
    "                \"Country\": data['sys']['country'],\n",
    "                \"Date\": datetime.utcfromtimestamp(data['dt']).strftime('%Y-%m-%d %H:%M:%S'),\n",
    "                \"Lat\": data['coord']['lat'],\n",
    "                \"Lng\": data['coord']['lon'],\n",
    "                \"Max Temp\": data['main']['temp_max'],\n",
    "                \"Humidity\": data['main']['humidity'],\n",
    "                \"Cloudiness\": data['clouds']['all'],\n",
    "                \"Wind Speed\": data['wind']['speed']\n",
    "            }, ignore_index=True)\n",
    "        else:\n",
    "            print(f\"Failed to retrieve data for {city}. Reason: {data['message']}\")\n",
    "    return current_weather\n",
    "\n",
    "def get_forecast_data(lat, lon, api_key):\n",
    "    units = 'metric'\n",
    "    api_url = f'https://api.openweathermap.org/data/2.5/forecast?lat={lat}&lon={lon}&appid={api_key}&units={units}'\n",
    "    response = requests.get(api_url)\n",
    "    data = response.json()\n",
    "    processed_data = []\n",
    "    for d in data['list']:\n",
    "        Adate = d['dt_txt'].split(' ')[0].replace('-','')\n",
    "        url = f'https://dd.weather.gc.ca/alerts/cap/{Adate}'\n",
    "        records = [Adate, d['main']['feels_like'], d['main']['temp_min'], d['main']['temp_max'], d['weather'][0]['description'], url]\n",
    "        processed_data.append(records)\n",
    "\n",
    "    dates = list(set([rec[0] for rec in processed_data]))\n",
    "\n",
    "    final_result = []\n",
    "    for d in dates:\n",
    "        daily_records = [rec for rec in processed_data if rec[0] == d]\n",
    "        feels_like_avg = round(sum([rec[1] for rec in daily_records]) / len(daily_records), 2)\n",
    "        temp_min = min([rec[2] for rec in daily_records])\n",
    "        temp_max = max([rec[3] for rec in daily_records])\n",
    "        final_result.append([d, feels_like_avg, temp_min, temp_max, daily_records[0][4], daily_records[0][5]])\n",
    "    return final_result\n",
    "\n",
    "api_key = \"6b7c918fb32224c10fecc2a16cc92d4a\"\n",
    "cities = [\"London\", \"New York\", \"Toronto\", \"Vancouver\", \"Tokyo\"]\n",
    "\n",
    "# Get current weather data for specified cities\n",
    "current_weather = get_weather_data(api_key, cities)\n",
    "print(current_weather)\n",
    "\n",
    "# For this example, let's use the latitude and longitude of Toronto (from your example) to get the forecast data\n",
    "lat, lon = 43.6532, -79.3832\n",
    "forecast_data = get_forecast_data(lat, lon, api_key)\n",
    "\n",
    "# Convert forecast data into a DataFrame for easier visualization\n",
    "forecast_df = pd.DataFrame(forecast_data, columns=[\"Date\", \"Feels Like Avg\", \"Min Temp\", \"Max Temp\", \"Description\", \"URL\"])\n",
    "print(forecast_df)\n"
   ]
  }
 ],
 "metadata": {
  "kernelspec": {
   "display_name": "base",
   "language": "python",
   "name": "python3"
  },
  "language_info": {
   "codemirror_mode": {
    "name": "ipython",
    "version": 3
   },
   "file_extension": ".py",
   "mimetype": "text/x-python",
   "name": "python",
   "nbconvert_exporter": "python",
   "pygments_lexer": "ipython3",
   "version": "3.10.9"
  },
  "orig_nbformat": 4
 },
 "nbformat": 4,
 "nbformat_minor": 2
}
